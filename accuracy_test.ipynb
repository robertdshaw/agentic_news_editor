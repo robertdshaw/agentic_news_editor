{
 "cells": [
  {
   "cell_type": "code",
   "execution_count": 1,
   "id": "e82155ae",
   "metadata": {},
   "outputs": [
    {
     "name": "stdout",
     "output_type": "stream",
     "text": [
      "TITLE: The Real Reason McDonald's Keeps the Filet-O-Fish on Their Menu\n",
      "ABSTRACT: It's something of an underdog story.\n",
      "---\n",
      "\n",
      "TITLE: 14 Wild Dog And Cat Species That Are Amazingly Rare\n",
      "ABSTRACT: You probably won't see these rare dog and cat species in your local woods. They are some of the rarest dogs and cats in the world - whether because of deforestation, loss of habitat, or lack of eligible mates to breed with, you'll be hard-pressed to find these canines and felines around the world. If you have found them, you're probably either a scientific researcher or a very wealthy person. ...\n",
      "---\n",
      "\n",
      "TITLE: 21 adorable photos of dogs cuddling tigers, ducks, and other animals that prove they're not just man's best friend\n",
      "ABSTRACT: From a leopard making friends with a dog in South Africa to a dog resting on a buffalo in Pakistan, see unlikely animal friendships around the world.\n",
      "---\n",
      "\n",
      "TITLE: The PC gaming moments which have most wowed us in the last 30 years\n",
      "ABSTRACT: From space dogfights in X-Wing to contemporary battle royale goodness\n",
      "---\n",
      "\n",
      "TITLE: Dog perplexed by stuffed animal lookalike\n",
      "ABSTRACT: This cute dog gets totally confused with a stuffed animal that looks exactly like it. Too funny!\n",
      "---\n",
      "\n"
     ]
    }
   ],
   "source": [
    "import pandas as pd\n",
    "\n",
    "cols = [\"newsID\",\"category\",\"subcategory\",\"title\",\"abstract\",\"url\",\"t_ent\",\"a_ent\"]\n",
    "df   = pd.read_csv(\"news.tsv\", sep=\"\\t\", header=None, names=cols)\n",
    "\n",
    "# Show a few abstracts for “dogs”\n",
    "dog_abstracts = df[df[\"abstract\"].str.contains(\"dog\", case=False, na=False)].head(5)\n",
    "for idx, row in dog_abstracts.iterrows():\n",
    "    print(f\"TITLE: {row.title}\\nABSTRACT: {row.abstract}\\n---\\n\")\n"
   ]
  }
 ],
 "metadata": {
  "kernelspec": {
   "display_name": "venv",
   "language": "python",
   "name": "python3"
  },
  "language_info": {
   "codemirror_mode": {
    "name": "ipython",
    "version": 3
   },
   "file_extension": ".py",
   "mimetype": "text/x-python",
   "name": "python",
   "nbconvert_exporter": "python",
   "pygments_lexer": "ipython3",
   "version": "3.11.5"
  }
 },
 "nbformat": 4,
 "nbformat_minor": 5
}
