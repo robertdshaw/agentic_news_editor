{
 "cells": [
  {
   "cell_type": "code",
   "execution_count": 3,
   "id": "dfdeadc3",
   "metadata": {},
   "outputs": [
    {
     "name": "stdout",
     "output_type": "stream",
     "text": [
      "cwd: c:\\Users\\rshaw\\Desktop\\EC Utbildning - Data Science\\Thesis\\Agentic_AI_News_Editor project\\agentic_ai_editor_project\n",
      "train_data contains: ['behaviors.tsv', 'entity_embedding.vec', 'news.tsv', 'relation_embedding.vec']\n"
     ]
    }
   ],
   "source": [
    "import os\n",
    "print(\"cwd:\", os.getcwd())\n",
    "print(\"train_data contains:\", os.listdir(\"train_data\"))\n"
   ]
  },
  {
   "cell_type": "code",
   "execution_count": 4,
   "id": "0e3b8bc4",
   "metadata": {},
   "outputs": [
    {
     "name": "stdout",
     "output_type": "stream",
     "text": [
      "cwd: c:\\Users\\rshaw\\Desktop\\EC Utbildning - Data Science\\Thesis\\Agentic_AI_News_Editor project\\agentic_ai_editor_project\n",
      "train_data exists? True\n",
      "news.tsv exists? True\n"
     ]
    }
   ],
   "source": [
    "import os\n",
    "\n",
    "print(\"cwd:\", os.getcwd())\n",
    "print(\"train_data exists?\", os.path.isdir(\"train_data\"))\n",
    "print(\"news.tsv exists?\", os.path.isfile(\"train_data/news.tsv\"))\n"
   ]
  },
  {
   "cell_type": "code",
   "execution_count": 1,
   "id": "8090ee8b",
   "metadata": {},
   "outputs": [
    {
     "name": "stdout",
     "output_type": "stream",
     "text": [
      "Duplicate news IDs: 0\n",
      "Duplicate news titles: 5367\n",
      "\n",
      "Missing values in news data:\n",
      "newsID                  0\n",
      "category                0\n",
      "subcategory             0\n",
      "title                   0\n",
      "abstract             5415\n",
      "url                     0\n",
      "title_entities          3\n",
      "abstract_entities       6\n",
      "dtype: int64\n",
      "Percentage of abstracts missing: 5.33%\n",
      "\n",
      "Very short titles (<10 chars): 0\n",
      "Very short abstracts (<20 chars): 6035\n",
      "\n",
      "Category distribution:\n",
      "category\n",
      "sports           32020\n",
      "news             30478\n",
      "finance           5916\n",
      "travel            4955\n",
      "lifestyle         4570\n",
      "video             4569\n",
      "foodanddrink      4418\n",
      "weather           4255\n",
      "autos             3071\n",
      "health            2929\n",
      "tv                1323\n",
      "music             1263\n",
      "entertainment      837\n",
      "movies             815\n",
      "kids               104\n",
      "middleeast           2\n",
      "games                1\n",
      "northamerica         1\n",
      "Name: count, dtype: int64\n"
     ]
    }
   ],
   "source": [
    "import pandas as pd\n",
    "import numpy as np\n",
    "\n",
    "# Load news data\n",
    "news_cols = [\"newsID\", \"category\", \"subcategory\", \"title\", \"abstract\", \"url\", \"title_entities\", \"abstract_entities\"]\n",
    "news_df = pd.read_csv(\"train_data\\\\news.tsv\", sep=\"\\t\", header=None, names=news_cols)\n",
    "\n",
    "\n",
    "# Check for duplicates\n",
    "duplicate_news = news_df.duplicated(subset=[\"newsID\"]).sum()\n",
    "print(f\"Duplicate news IDs: {duplicate_news}\")\n",
    "\n",
    "# Check unique titles\n",
    "duplicate_titles = news_df[news_df.duplicated(subset=[\"title\"], keep=False)]\n",
    "print(f\"Duplicate news titles: {len(duplicate_titles)}\")\n",
    "\n",
    "# Missing values\n",
    "print(\"\\nMissing values in news data:\")\n",
    "print(news_df.isnull().sum())\n",
    "print(f\"Percentage of abstracts missing: {news_df['abstract'].isnull().mean()*100:.2f}%\")\n",
    "\n",
    "# Check title and abstract lengths\n",
    "news_df[\"title_length\"] = news_df[\"title\"].str.len()\n",
    "news_df[\"abstract_length\"] = news_df[\"abstract\"].fillna(\"\").str.len()\n",
    "\n",
    "# Identify very short titles/abstracts (potential quality issues)\n",
    "print(f\"\\nVery short titles (<10 chars): {(news_df['title_length'] < 10).sum()}\")\n",
    "print(f\"Very short abstracts (<20 chars): {(news_df['abstract_length'] < 20).sum()}\")\n",
    "\n",
    "# Examine category distribution\n",
    "category_counts = news_df[\"category\"].value_counts()\n",
    "print(\"\\nCategory distribution:\")\n",
    "print(category_counts)\n",
    "\n",
    "# Potential adjustments based on exploration:\n",
    "# 1. Filter out articles with missing abstracts if needed\n",
    "# 2. Set minimum length requirements for titles and abstracts\n",
    "# 3. Balance categories if severely imbalanced"
   ]
  }
 ],
 "metadata": {
  "kernelspec": {
   "display_name": "venv",
   "language": "python",
   "name": "python3"
  },
  "language_info": {
   "codemirror_mode": {
    "name": "ipython",
    "version": 3
   },
   "file_extension": ".py",
   "mimetype": "text/x-python",
   "name": "python",
   "nbconvert_exporter": "python",
   "pygments_lexer": "ipython3",
   "version": "3.12.7"
  }
 },
 "nbformat": 4,
 "nbformat_minor": 5
}
