{
 "cells": [
  {
   "cell_type": "code",
   "execution_count": null,
   "id": "8090ee8b",
   "metadata": {},
   "outputs": [],
   "source": [
    "import pandas as pd\n",
    "import numpy as np\n",
    "\n",
    "# Load news data\n",
    "news_cols = [\"newsID\", \"category\", \"subcategory\", \"title\", \"abstract\", \"url\", \"title_entities\", \"abstract_entities\"]\n",
    "news_df = pd.read_csv(r\"C:\\Users\\rshaw\\Desktop\\EC Utbildning - Data Science\\Thesis\\Agentic_AI_News_Editor project\\agentic_ai_editor_project\\train_data\", sep=\"\\t\", header=None, names=news_cols)\n",
    "\n",
    "# Check for duplicates\n",
    "duplicate_news = news_df.duplicated(subset=[\"newsID\"]).sum()\n",
    "print(f\"Duplicate news IDs: {duplicate_news}\")\n",
    "\n",
    "# Check unique titles\n",
    "duplicate_titles = news_df[news_df.duplicated(subset=[\"title\"], keep=False)]\n",
    "print(f\"Duplicate news titles: {len(duplicate_titles)}\")\n",
    "\n",
    "# Missing values\n",
    "print(\"\\nMissing values in news data:\")\n",
    "print(news_df.isnull().sum())\n",
    "print(f\"Percentage of abstracts missing: {news_df['abstract'].isnull().mean()*100:.2f}%\")\n",
    "\n",
    "# Check title and abstract lengths\n",
    "news_df[\"title_length\"] = news_df[\"title\"].str.len()\n",
    "news_df[\"abstract_length\"] = news_df[\"abstract\"].fillna(\"\").str.len()\n",
    "\n",
    "# Identify very short titles/abstracts (potential quality issues)\n",
    "print(f\"\\nVery short titles (<10 chars): {(news_df['title_length'] < 10).sum()}\")\n",
    "print(f\"Very short abstracts (<20 chars): {(news_df['abstract_length'] < 20).sum()}\")\n",
    "\n",
    "# Examine category distribution\n",
    "category_counts = news_df[\"category\"].value_counts()\n",
    "print(\"\\nCategory distribution:\")\n",
    "print(category_counts)\n",
    "\n",
    "# Potential adjustments based on exploration:\n",
    "# 1. Filter out articles with missing abstracts if needed\n",
    "# 2. Set minimum length requirements for titles and abstracts\n",
    "# 3. Balance categories if severely imbalanced"
   ]
  }
 ],
 "metadata": {
  "kernelspec": {
   "display_name": "venv",
   "language": "python",
   "name": "python3"
  },
  "language_info": {
   "name": "python",
   "version": "3.12.7"
  }
 },
 "nbformat": 4,
 "nbformat_minor": 5
}
