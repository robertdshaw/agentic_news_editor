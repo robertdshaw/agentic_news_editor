{
 "cells": [
  {
   "cell_type": "code",
   "execution_count": null,
   "id": "dfdeadc3",
   "metadata": {},
   "outputs": [],
   "source": [
    "import os\n",
    "print(\"cwd:\", os.getcwd())\n",
    "print(\"train_data contains:\", os.listdir(\"train_data\"))\n"
   ]
  },
  {
   "cell_type": "code",
   "execution_count": null,
   "id": "0e3b8bc4",
   "metadata": {},
   "outputs": [],
   "source": [
    "import os\n",
    "from pathlib import Path\n",
    "\n",
    "# 1) Print your cwd\n",
    "print(\"cwd:\", os.getcwd())\n",
    "\n",
    "# 2) Check that train_data exists\n",
    "print(\"train_data folder exists?\", os.path.isdir(\"train_data\"))\n",
    "\n",
    "# 3) Check that news.tsv exists under it\n",
    "print(\"news.tsv exists?\", os.path.isfile(\"train_data/news.tsv\"))\n",
    "\n",
    "# 4) Show the full resolved path\n",
    "p = Path(\"train_data\") / \"news.tsv\"\n",
    "print(\"Resolved path:\", p.resolve())\n",
    "print(\"Path exists?\", p.exists())\n"
   ]
  },
  {
   "cell_type": "code",
   "execution_count": null,
   "id": "d12903dd",
   "metadata": {},
   "outputs": [],
   "source": [
    "import pandas as pd\n",
    "import numpy as np\n",
    "\n",
    "# Load news data\n",
    "news_cols = [\"newsID\", \"category\", \"subcategory\", \"title\", \"abstract\", \"url\", \"title_entities\", \"abstract_entities\"]\n",
    "news_df = pd.read_csv(\"train_data/news.tsv\", sep=\"\\t\", header=None, names=news_cols)"
   ]
  },
  {
   "cell_type": "code",
   "execution_count": null,
   "id": "8090ee8b",
   "metadata": {},
   "outputs": [],
   "source": [
    "\n",
    "# Check for duplicates\n",
    "duplicate_news = news_df.duplicated(subset=[\"newsID\"]).sum()\n",
    "print(f\"Duplicate news IDs: {duplicate_news}\")\n",
    "\n",
    "# Check unique titles\n",
    "duplicate_titles = news_df[news_df.duplicated(subset=[\"title\"], keep=False)]\n",
    "print(f\"Duplicate news titles: {len(duplicate_titles)}\")\n",
    "\n",
    "# Missing values\n",
    "print(\"\\nMissing values in news data:\")\n",
    "print(news_df.isnull().sum())\n",
    "print(f\"Percentage of abstracts missing: {news_df['abstract'].isnull().mean()*100:.2f}%\")\n",
    "\n",
    "# Check title and abstract lengths\n",
    "news_df[\"title_length\"] = news_df[\"title\"].str.len()\n",
    "news_df[\"abstract_length\"] = news_df[\"abstract\"].fillna(\"\").str.len()\n",
    "\n",
    "# Identify very short titles/abstracts (potential quality issues)\n",
    "print(f\"\\nVery short titles (<10 chars): {(news_df['title_length'] < 10).sum()}\")\n",
    "print(f\"Very short abstracts (<20 chars): {(news_df['abstract_length'] < 20).sum()}\")\n",
    "\n",
    "# Examine category distribution\n",
    "category_counts = news_df[\"category\"].value_counts()\n",
    "print(\"\\nCategory distribution:\")\n",
    "print(category_counts)\n",
    "\n",
    "# Potential adjustments based on exploration:\n",
    "# 1. Filter out articles with missing abstracts if needed\n",
    "# 2. Set minimum length requirements for titles and abstracts\n",
    "# 3. Balance categories if severely imbalanced"
   ]
  }
 ],
 "metadata": {
  "kernelspec": {
   "display_name": "venv",
   "language": "python",
   "name": "python3"
  },
  "language_info": {
   "codemirror_mode": {
    "name": "ipython",
    "version": 3
   },
   "file_extension": ".py",
   "mimetype": "text/x-python",
   "name": "python",
   "nbconvert_exporter": "python",
   "pygments_lexer": "ipython3",
   "version": "3.12.7"
  }
 },
 "nbformat": 4,
 "nbformat_minor": 5
}
