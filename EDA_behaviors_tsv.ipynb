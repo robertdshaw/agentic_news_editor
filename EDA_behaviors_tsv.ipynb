{
 "cells": [
  {
   "cell_type": "code",
   "execution_count": null,
   "id": "96bb47bc",
   "metadata": {},
   "outputs": [],
   "source": [
    "import pandas as pd\n",
    "import numpy as np"
   ]
  },
  {
   "cell_type": "code",
   "execution_count": 8,
   "id": "3a4f6a15",
   "metadata": {},
   "outputs": [],
   "source": [
    "news_df = pd.read_pickle(\"cleaned_news.pkl\")\n",
    "news_ids = set(news_df[\"newsID\"])"
   ]
  },
  {
   "cell_type": "code",
   "execution_count": null,
   "id": "b3d3abb2",
   "metadata": {},
   "outputs": [],
   "source": [
    "\n",
    "# Load behaviors data\n",
    "behaviors_cols = [\"impression_id\", \"user_id\", \"time\", \"history\", \"impressions\"]\n",
    "behaviors_df = pd.read_csv(\"train_data/behaviors.tsv\", sep=\"\\t\", header=None, names=behaviors_cols)"
   ]
  },
  {
   "cell_type": "code",
   "execution_count": 3,
   "id": "272c9c2f",
   "metadata": {},
   "outputs": [
    {
     "name": "stdout",
     "output_type": "stream",
     "text": [
      "Duplicate impression IDs: 0\n",
      "\n",
      "Missing values in behaviors data:\n",
      "impression_id        0\n",
      "user_id              0\n",
      "time                 0\n",
      "history          46065\n",
      "impressions          0\n",
      "dtype: int64\n"
     ]
    }
   ],
   "source": [
    "# Check for duplicates\n",
    "duplicate_impressions = behaviors_df.duplicated(subset=[\"impression_id\"]).sum()\n",
    "print(f\"Duplicate impression IDs: {duplicate_impressions}\")\n",
    "\n",
    "# Check missing values\n",
    "print(\"\\nMissing values in behaviors data:\")\n",
    "print(behaviors_df.isnull().sum())"
   ]
  },
  {
   "cell_type": "code",
   "execution_count": 1,
   "id": "fc6b7617",
   "metadata": {},
   "outputs": [],
   "source": [
    "import pandas as pd\n",
    "\n",
    "# Only read the first 10,000 rows (or fewer)\n",
    "behaviors_df = pd.read_csv(\n",
    "    'train_data/behaviors.tsv',\n",
    "    sep='\\t',\n",
    "    header=None,\n",
    "    names=['impression_id', 'user_id', 'time', 'history', 'impressions'],\n",
    "    nrows=10000\n",
    ")"
   ]
  },
  {
   "cell_type": "code",
   "execution_count": 2,
   "id": "1604fd84",
   "metadata": {},
   "outputs": [],
   "source": [
    "impressions_expanded = []\n",
    "\n",
    "for _, row in behaviors_df.iterrows():\n",
    "    try:\n",
    "        impressions = row['impressions'].split()\n",
    "        for item in impressions:\n",
    "            if '-' in item:\n",
    "                news_id, clicked = item.split('-')\n",
    "                impressions_expanded.append({\n",
    "                    'impression_id': row['impression_id'],\n",
    "                    'user_id': row['user_id'],\n",
    "                    'news_id': news_id,\n",
    "                    'clicked': int(clicked)\n",
    "                })\n",
    "    except Exception as e:\n",
    "        print(f\"Skipping row due to error: {e}\")\n",
    "        continue\n"
   ]
  },
  {
   "cell_type": "code",
   "execution_count": 3,
   "id": "11839bea",
   "metadata": {},
   "outputs": [
    {
     "name": "stdout",
     "output_type": "stream",
     "text": [
      "Expanded to 371707 impression records\n"
     ]
    }
   ],
   "source": [
    "impressions_df = pd.DataFrame(impressions_expanded)\n",
    "print(f\"Expanded to {len(impressions_df)} impression records\")"
   ]
  },
  {
   "cell_type": "code",
   "execution_count": null,
   "id": "397d9306",
   "metadata": {},
   "outputs": [
    {
     "name": "stderr",
     "output_type": "stream",
     "text": [
      "<>:2: SyntaxWarning: str indices must be integers or slices, not str; perhaps you missed a comma?\n",
      "<>:2: SyntaxWarning: str indices must be integers or slices, not str; perhaps you missed a comma?\n",
      "C:\\Users\\rshaw\\AppData\\Local\\Temp\\ipykernel_30204\\340838265.py:2: SyntaxWarning: str indices must be integers or slices, not str; perhaps you missed a comma?\n",
      "  news_ids = set(\"cleaned_news.pkl\"[\"newsID\"]) # type: ignore\n"
     ]
    },
    {
     "ename": "TypeError",
     "evalue": "string indices must be integers, not 'str'",
     "output_type": "error",
     "traceback": [
      "\u001b[31m---------------------------------------------------------------------------\u001b[39m",
      "\u001b[31mTypeError\u001b[39m                                 Traceback (most recent call last)",
      "\u001b[36mCell\u001b[39m\u001b[36m \u001b[39m\u001b[32mIn[7]\u001b[39m\u001b[32m, line 2\u001b[39m\n\u001b[32m      1\u001b[39m \u001b[38;5;66;03m# Check for invalid news IDs (not in news_df)\u001b[39;00m\n\u001b[32m----> \u001b[39m\u001b[32m2\u001b[39m news_ids = \u001b[38;5;28mset\u001b[39m(\u001b[33;43m\"\u001b[39;49m\u001b[33;43mcleaned_news.pkl\u001b[39;49m\u001b[33;43m\"\u001b[39;49m\u001b[43m[\u001b[49m\u001b[33;43m\"\u001b[39;49m\u001b[33;43mnewsID\u001b[39;49m\u001b[33;43m\"\u001b[39;49m\u001b[43m]\u001b[49m) \u001b[38;5;66;03m# type: ignore\u001b[39;00m\n\u001b[32m      3\u001b[39m invalid_news_ids = impressions_df[~impressions_df[\u001b[33m\"\u001b[39m\u001b[33mnews_id\u001b[39m\u001b[33m\"\u001b[39m].isin(news_ids)]\n\u001b[32m      4\u001b[39m \u001b[38;5;28mprint\u001b[39m(\u001b[33mf\u001b[39m\u001b[33m\"\u001b[39m\u001b[33mImpression records with invalid news IDs: \u001b[39m\u001b[38;5;132;01m{\u001b[39;00m\u001b[38;5;28mlen\u001b[39m(invalid_news_ids)\u001b[38;5;132;01m}\u001b[39;00m\u001b[33m\"\u001b[39m)\n",
      "\u001b[31mTypeError\u001b[39m: string indices must be integers, not 'str'"
     ]
    }
   ],
   "source": [
    "# Check for invalid news IDs (not in news_df)\n",
    "invalid_news_ids = impressions_df[~impressions_df[\"news_id\"].isin(news_ids)]\n",
    "print(f\"Impression records with invalid news IDs: {len(invalid_news_ids)}\")"
   ]
  },
  {
   "cell_type": "code",
   "execution_count": null,
   "id": "25a5c85f",
   "metadata": {},
   "outputs": [],
   "source": [
    "# Check click distribution\n",
    "clicks = impressions_df[\"clicked\"].sum()\n",
    "total = len(impressions_df)\n",
    "print(f\"\\nOverall CTR: {clicks/total:.4f} ({clicks} clicks out of {total} impressions)\")"
   ]
  },
  {
   "cell_type": "code",
   "execution_count": null,
   "id": "96395ea5",
   "metadata": {},
   "outputs": [],
   "source": [
    "# Check for articles with too few impressions (unreliable CTR)\n",
    "article_impressions = impressions_df.groupby(\"news_id\").size()\n",
    "low_impression_articles = (article_impressions < 5).sum()\n",
    "print(f\"Articles with fewer than 5 impressions: {low_impression_articles}\")"
   ]
  },
  {
   "cell_type": "code",
   "execution_count": null,
   "id": "e5fe77aa",
   "metadata": {},
   "outputs": [],
   "source": [
    "\n",
    "# Check for extreme CTRs (potential data issues)\n",
    "article_ctrs = impressions_df.groupby(\"news_id\")[\"clicked\"].mean()\n",
    "suspicious_ctrs = ((article_ctrs == 0) | (article_ctrs > 0.7)).sum()\n",
    "print(f\"Articles with suspicious CTRs (0 or >70%): {suspicious_ctrs}\")\n",
    "\n",
    "# Potential adjustments based on exploration:\n",
    "# 1. Filter out articles with too few impressions (e.g., < 10)\n",
    "# 2. Investigate articles with extreme CTRs\n",
    "# 3. Set minimum threshold for impression count when calculating CTR"
   ]
  }
 ],
 "metadata": {
  "kernelspec": {
   "display_name": "venv",
   "language": "python",
   "name": "python3"
  },
  "language_info": {
   "codemirror_mode": {
    "name": "ipython",
    "version": 3
   },
   "file_extension": ".py",
   "mimetype": "text/x-python",
   "name": "python",
   "nbconvert_exporter": "python",
   "pygments_lexer": "ipython3",
   "version": "3.12.7"
  }
 },
 "nbformat": 4,
 "nbformat_minor": 5
}
