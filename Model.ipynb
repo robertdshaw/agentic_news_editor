{
 "cells": [
  {
   "cell_type": "code",
   "execution_count": null,
   "id": "232b06d9",
   "metadata": {},
   "outputs": [],
   "source": [
    "import os\n",
    "import pandas as pd\n",
    "import numpy as np\n",
    "import pickle\n",
    "import logging\n",
    "from sklearn.ensemble import RandomForestRegressor\n",
    "from sklearn.model_selection import train_test_split\n",
    "from sklearn.metrics import mean_squared_error, r2_score\n",
    "from sklearn.feature_extraction.text import TfidfVectorizer\n",
    "import re\n",
    "from transformers import AutoTokenizer, AutoModel\n",
    "import torch\n",
    "import matplotlib.pyplot as plt\n",
    "import seaborn as sns\n",
    "\n",
    "# Configure logging\n",
    "logging.basicConfig(level=logging.INFO, format='%(asctime)s - %(levelname)s - %(message)s')\n",
    "\n",
    "# Initialize device\n",
    "device = torch.device(\"cuda\" if torch.cuda.is_available() else \"cpu\")\n",
    "print(f\"Using device: {device}\")\n",
    "\n",
    "# Load models\n",
    "try:\n",
    "    tokenizer = AutoTokenizer.from_pretrained(\"distilbert-base-uncased\")\n",
    "    bert_model = AutoModel.from_pretrained(\"distilbert-base-uncased\")\n",
    "    bert_model = bert_model.to(device)\n",
    "    print(\"Loaded DistilBERT model successfully\")\n",
    "except Exception as e:\n",
    "    print(f\"Failed to load DistilBERT model: {e}\")"
   ]
  },
  {
   "cell_type": "code",
   "execution_count": null,
   "id": "846fee73",
   "metadata": {},
   "outputs": [],
   "source": [
    "# Define data directory\n",
    "processed_data_dir = 'agentic_news_editor/processed_data'\n",
    "\n",
    "def load_training_data(data_dir=processed_data_dir):\n",
    "    \"\"\"Load processed headlines with CTR data\"\"\"\n",
    "    try:\n",
    "        headlines_path = os.path.join(data_dir, 'headline_ctr_data.csv')\n",
    "        if not os.path.exists(headlines_path):\n",
    "            print(f\"Training data not found at {headlines_path}\")\n",
    "            return None\n",
    "                \n",
    "        headline_data = pd.read_csv(headlines_path)\n",
    "        print(f\"Loaded {len(headline_data)} headlines with CTR data\")\n",
    "        \n",
    "        # Preview the data\n",
    "        print(\"\\nData preview:\")\n",
    "        print(headline_data.head())\n",
    "        \n",
    "        # Check for missing values\n",
    "        print(\"\\nMissing values:\")\n",
    "        print(headline_data[['title', 'ctr']].isna().sum())\n",
    "        \n",
    "        return headline_data\n",
    "    except Exception as e:\n",
    "        print(f\"Error loading training data: {e}\")\n",
    "        return None\n",
    "\n",
    "# Load the data\n",
    "headline_data = load_training_data()"
   ]
  }
 ],
 "metadata": {
  "language_info": {
   "name": "python"
  }
 },
 "nbformat": 4,
 "nbformat_minor": 5
}
